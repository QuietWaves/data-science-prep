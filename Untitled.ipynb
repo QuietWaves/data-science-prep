{
 "cells": [
  {
   "cell_type": "code",
   "execution_count": 1,
   "id": "ccae01a2-d385-45f7-9673-c186a65ee32c",
   "metadata": {},
   "outputs": [
    {
     "name": "stdout",
     "output_type": "stream",
     "text": [
      "Hello Data Science!\n"
     ]
    }
   ],
   "source": [
    "print(\"Hello Data Science!\")"
   ]
  },
  {
   "cell_type": "code",
   "execution_count": null,
   "id": "bd72a648-0b62-4350-859b-7cb462c89f4b",
   "metadata": {},
   "outputs": [],
   "source": []
  }
 ],
 "metadata": {
  "kernelspec": {
   "display_name": "Python 3 (ipykernel)",
   "language": "python",
   "name": "python3"
  },
  "language_info": {
   "codemirror_mode": {
    "name": "ipython",
    "version": 3
   },
   "file_extension": ".py",
   "mimetype": "text/x-python",
   "name": "python",
   "nbconvert_exporter": "python",
   "pygments_lexer": "ipython3",
   "version": "3.13.5"
  }
 },
 "nbformat": 4,
 "nbformat_minor": 5
}
